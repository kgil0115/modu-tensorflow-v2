{
 "cells": [
  {
   "cell_type": "code",
   "execution_count": 1,
   "metadata": {},
   "outputs": [],
   "source": [
    "# Linear Regression\n",
    "\n",
    "import os\n",
    "os.environ['TF_CPP_MIN_LOG_LEVEL']='2'\n",
    "import time\n",
    "\n",
    "import numpy as np\n",
    "import matplotlib.pyplot as plt\n",
    "import tensorflow as tf\n",
    "\n",
    "import utils"
   ]
  },
  {
   "cell_type": "code",
   "execution_count": 3,
   "metadata": {},
   "outputs": [],
   "source": [
    "DATA_FILE = 'data/birth_life_2010.txt'\n",
    "\n",
    "# Step 1: read in data from the .txt file\n",
    "data, n_samples = utils.read_birth_life_data(DATA_FILE)"
   ]
  },
  {
   "cell_type": "code",
   "execution_count": 4,
   "metadata": {},
   "outputs": [],
   "source": [
    "# Step 2: create placeholders for X (birth rate) and Y (life expectancy)\n",
    "# Remember both X and Y are scalars with type float\n",
    "X= tf.placeholder(tf.float32, shape=(), name ='x')\n",
    "Y= tf.placeholder(tf.float32, shape=(), name ='y')"
   ]
  },
  {
   "cell_type": "code",
   "execution_count": 5,
   "metadata": {},
   "outputs": [],
   "source": [
    "# Step 3: create weight and bias, initialized to 0.0\n",
    "# Make sure to use tf.get_variable\n",
    "w= tf.get_variable(name='w', initializer=tf.constant(0.0))\n",
    "b = tf.get_variable(name='b', shape=[],\n",
    "                    initializer=tf.random_normal_initializer())\n"
   ]
  },
  {
   "cell_type": "code",
   "execution_count": 6,
   "metadata": {},
   "outputs": [],
   "source": [
    "# Step 4: build model to predict Y\n",
    "# e.g. how would you derive at Y_predicted given X, w, and b\n",
    "Y_predicted = w*X+b"
   ]
  },
  {
   "cell_type": "code",
   "execution_count": 7,
   "metadata": {},
   "outputs": [],
   "source": [
    "# Step 5: use the square error as the loss function\n",
    "loss = tf.square(Y-Y_predicted, name='loss')"
   ]
  },
  {
   "cell_type": "code",
   "execution_count": 11,
   "metadata": {},
   "outputs": [
    {
     "name": "stdout",
     "output_type": "stream",
     "text": [
      "Epoch 0: 1647.4587795533253\n",
      "Epoch 1: 948.9809995466157\n",
      "Epoch 2: 838.2236547313238\n",
      "Epoch 3: 745.0232977045209\n",
      "Epoch 4: 662.6082761330237\n",
      "Epoch 5: 589.6710269846415\n",
      "Epoch 6: 525.1224748898886\n",
      "Epoch 7: 467.9987703557861\n",
      "Epoch 8: 417.44759555929585\n",
      "Epoch 9: 372.7134281425688\n",
      "Epoch 10: 333.12772450833336\n",
      "Epoch 11: 298.0989552379206\n",
      "Epoch 12: 267.1038423335486\n",
      "Epoch 13: 239.67865993872678\n",
      "Epoch 14: 215.41331316797357\n",
      "Epoch 15: 193.94402727125686\n",
      "Epoch 16: 174.9495642011115\n",
      "Epoch 17: 158.14524786195864\n",
      "Epoch 18: 143.27940765815345\n",
      "Epoch 19: 130.12894574172404\n",
      "Epoch 20: 118.49654045834353\n",
      "Epoch 21: 108.20741111014381\n",
      "Epoch 22: 99.10701852381034\n",
      "Epoch 23: 91.05829954690446\n",
      "Epoch 24: 83.94041088362206\n",
      "Epoch 25: 77.64574653739723\n",
      "Epoch 26: 72.08043492743255\n",
      "Epoch 27: 67.15921133407636\n",
      "Epoch 28: 62.80865528319111\n",
      "Epoch 29: 58.962845816874975\n",
      "Epoch 30: 55.56340026870205\n",
      "Epoch 31: 52.558428909169436\n",
      "Epoch 32: 49.902982070900215\n",
      "Epoch 33: 47.55619543318539\n",
      "Epoch 34: 45.48286329758795\n",
      "Epoch 35: 43.6510781184231\n",
      "Epoch 36: 42.0332346698934\n",
      "Epoch 37: 40.60430664437284\n",
      "Epoch 38: 39.3425457803364\n",
      "Epoch 39: 38.228508942917685\n",
      "Epoch 40: 37.24504667711934\n",
      "Epoch 41: 36.377082866857954\n",
      "Epoch 42: 35.611229934695324\n",
      "Epoch 43: 34.9355861180707\n",
      "Epoch 44: 34.339757337205505\n",
      "Epoch 45: 33.81444833046561\n",
      "Epoch 46: 33.3511755467571\n",
      "Epoch 47: 32.94293694853979\n",
      "Epoch 48: 32.58320835210187\n",
      "Epoch 49: 32.26650474086698\n",
      "Epoch 50: 31.98767061092382\n",
      "Epoch 51: 31.742254951096285\n",
      "Epoch 52: 31.526422471791125\n",
      "Epoch 53: 31.336550048225572\n",
      "Epoch 54: 31.169692636499683\n",
      "Epoch 55: 31.02316370968811\n",
      "Epoch 56: 30.89443974433058\n",
      "Epoch 57: 30.78155369112815\n",
      "Epoch 58: 30.68251358057176\n",
      "Epoch 59: 30.59578261719649\n",
      "Epoch 60: 30.519866233409726\n",
      "Epoch 61: 30.453369525275928\n",
      "Epoch 62: 30.39532060949622\n",
      "Epoch 63: 30.344620949914678\n",
      "Epoch 64: 30.30035865906087\n",
      "Epoch 65: 30.261792640464293\n",
      "Epoch 66: 30.228315952268282\n",
      "Epoch 67: 30.19913067596989\n",
      "Epoch 68: 30.173863016284916\n",
      "Epoch 69: 30.151969109468872\n",
      "Epoch 70: 30.133038825323915\n",
      "Epoch 71: 30.11668641560613\n",
      "Epoch 72: 30.102692161914955\n",
      "Epoch 73: 30.090659913335205\n",
      "Epoch 74: 30.080320536957956\n",
      "Epoch 75: 30.071559685092467\n",
      "Epoch 76: 30.064085907555235\n",
      "Epoch 77: 30.057774360629878\n",
      "Epoch 78: 30.05245097176613\n",
      "Epoch 79: 30.04804993755135\n",
      "Epoch 80: 30.044354088399803\n",
      "Epoch 81: 30.041352468074642\n",
      "Epoch 82: 30.03889482305385\n",
      "Epoch 83: 30.036935859649308\n",
      "Epoch 84: 30.035413585027595\n",
      "Epoch 85: 30.034224880564924\n",
      "Epoch 86: 30.03332982203643\n",
      "Epoch 87: 30.032754111765215\n",
      "Epoch 88: 30.032348301686426\n",
      "Epoch 89: 30.032161168809015\n",
      "Epoch 90: 30.03209686741504\n",
      "Epoch 91: 30.03219868442791\n",
      "Epoch 92: 30.03240656690476\n",
      "Epoch 93: 30.032675867344523\n",
      "Epoch 94: 30.033047090343345\n",
      "Epoch 95: 30.033480705982566\n",
      "Epoch 96: 30.033922428865058\n",
      "Epoch 97: 30.034469076323226\n",
      "Epoch 98: 30.034980597413195\n",
      "Epoch 99: 30.03554981524909\n",
      "Took: 4.602391 seconds\n"
     ]
    }
   ],
   "source": [
    "# Step 6: using gradient descent with learning rate of 0.001 to minimize loss\n",
    "optimizer = tf.train.GradientDescentOptimizer(learning_rate=0.001).minimize(loss)\n",
    "\n",
    "start = time.time()\n",
    "\n",
    "\n",
    "with tf.Session() as sess:\n",
    "    # Step 7: initialize the necessary variables, in this case, w and b\n",
    "    sess.run(tf.global_variables_initializer())\n",
    "    \n",
    "    # Create a filewriter to write the model's graph to TensorBoard\n",
    "    writer = tf.summary.FileWriter('./graphs/linear_reg', sess.graph)\n",
    "\n",
    "    # Step 8: train the model for 100 epochs\n",
    "    for i in range(100):\n",
    "        total_loss = 0\n",
    "        for x, y in data:\n",
    "            # Execute train_op and get the value of loss.\n",
    "            # Don't forget to feed in data for placeholders\n",
    "            _, loss_ = sess.run([optimizer, loss], feed_dict={X:x, Y:y})\n",
    "            total_loss += loss_\n",
    "\n",
    "        print('Epoch {0}: {1}'.format(i, total_loss/n_samples))\n",
    "\n",
    "    # close the writer when you're done using it\n",
    "    #############################\n",
    "    ########## TO DO ############\n",
    "    #############################\n",
    "    writer.close()\n",
    "    \n",
    "    # Step 9: output the values of w and b\n",
    "    w_out, b_out = sess.run([w, b])\n",
    "\n",
    "print('Took: %f seconds' %(time.time() - start))\n",
    "\n"
   ]
  },
  {
   "cell_type": "code",
   "execution_count": 12,
   "metadata": {},
   "outputs": [
    {
     "data": {
      "image/png": "[encoded data removed]",
      "text/plain": [
       "<Figure size 432x288 with 1 Axes>"
      ]
     },
     "metadata": {},
     "output_type": "display_data"
    }
   ],
   "source": [
    "# uncomment the following lines to see the plot \n",
    "plt.plot(data[:,0], data[:,1], 'bo', label='Real data')\n",
    "plt.plot(data[:,0], data[:,0] * w_out + b_out, 'r', label='Predicted data')\n",
    "plt.legend()\n",
    "plt.show()"
   ]
  },
  {
   "cell_type": "code",
   "execution_count": null,
   "metadata": {},
   "outputs": [],
   "source": []
  }
 ],
 "metadata": {
  "kernelspec": {
   "display_name": "Python 3",
   "language": "python",
   "name": "python3"
  },
  "language_info": {
   "codemirror_mode": {
    "name": "ipython",
    "version": 3
   },
   "file_extension": ".py",
   "mimetype": "text/x-python",
   "name": "python",
   "nbconvert_exporter": "python",
   "pygments_lexer": "ipython3",
   "version": "3.6.4"
  }
 },
 "nbformat": 4,
 "nbformat_minor": 2
}
